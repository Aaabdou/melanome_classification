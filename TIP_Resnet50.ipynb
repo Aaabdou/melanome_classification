{
 "cells": [
  {
   "cell_type": "code",
   "execution_count": 14,
   "id": "e7f871e7-7c4d-431f-b12e-465450d14f32",
   "metadata": {
    "execution": {
     "iopub.execute_input": "2023-11-20T14:19:28.749007Z",
     "iopub.status.busy": "2023-11-20T14:19:28.748444Z",
     "iopub.status.idle": "2023-11-20T14:19:28.752412Z",
     "shell.execute_reply": "2023-11-20T14:19:28.751586Z",
     "shell.execute_reply.started": "2023-11-20T14:19:28.748980Z"
    },
    "tags": []
   },
   "outputs": [],
   "source": [
    "# !pip install patool\n",
    "# import patoolib\n",
    "# # patoolib.extract_archive(\"isic-2020-resized.zip\")\n",
    "# patoolib.extract_archive(\"train-resized.zip\")\n",
    "# # patoolib.extract_archive(\"test-resized.zip\")"
   ]
  },
  {
   "cell_type": "code",
   "execution_count": 15,
   "id": "ce873a9f-937c-4030-99b1-aca2d9797461",
   "metadata": {
    "execution": {
     "iopub.execute_input": "2023-11-20T14:19:28.754160Z",
     "iopub.status.busy": "2023-11-20T14:19:28.753663Z",
     "iopub.status.idle": "2023-11-20T14:19:31.202385Z",
     "shell.execute_reply": "2023-11-20T14:19:31.201524Z",
     "shell.execute_reply.started": "2023-11-20T14:19:28.754139Z"
    },
    "tags": []
   },
   "outputs": [
    {
     "name": "stdout",
     "output_type": "stream",
     "text": [
      "Requirement already satisfied: tqdm in /opt/saturncloud/envs/saturn/lib/python3.9/site-packages (4.65.0)\n"
     ]
    }
   ],
   "source": [
    "#Imports\n",
    "!pip3 install tqdm\n",
    "import numpy as np\n",
    "from tqdm import tqdm\n",
    "import torch\n",
    "import torchvision\n",
    "from torch import nn\n",
    "from torch.utils.data import DataLoader,Dataset,random_split,WeightedRandomSampler\n",
    "from torchvision import datasets, transforms\n",
    "from torchvision.transforms import ToTensor\n",
    "import matplotlib.pyplot as plt\n",
    "import csv\n",
    "import os\n",
    "import pandas as pd\n",
    "from torchvision.io import read_image\n",
    "from torchvision.models import resnet50\n",
    "from collections import Counter"
   ]
  },
  {
   "cell_type": "code",
   "execution_count": 16,
   "id": "1236772f-2e71-4df8-ba0c-c84a6df9d6e0",
   "metadata": {
    "execution": {
     "iopub.execute_input": "2023-11-20T14:19:31.204501Z",
     "iopub.status.busy": "2023-11-20T14:19:31.203820Z",
     "iopub.status.idle": "2023-11-20T14:19:31.234667Z",
     "shell.execute_reply": "2023-11-20T14:19:31.233907Z",
     "shell.execute_reply.started": "2023-11-20T14:19:31.204459Z"
    },
    "tags": []
   },
   "outputs": [
    {
     "name": "stdout",
     "output_type": "stream",
     "text": [
      "Done!\n"
     ]
    }
   ],
   "source": [
    "#create csv file for test\n",
    "csv_exist=False\n",
    "if not csv_exist:\n",
    "    img_dir=\"./test-resized\"\n",
    "    with open('test-name.csv', 'w', newline='') as file:\n",
    "        writer = csv.writer(file)\n",
    "        field = [\"name\"]\n",
    "        writer.writerow(field)\n",
    "        for x in os.listdir(img_dir):\n",
    "            writer.writerow([os.path.splitext(x)[0]])\n",
    "    print(\"Done!\")"
   ]
  },
  {
   "cell_type": "code",
   "execution_count": 17,
   "id": "b9de3e27-b4f8-43e4-9c3c-ee2fe4209492",
   "metadata": {
    "execution": {
     "iopub.execute_input": "2023-11-20T14:19:31.236689Z",
     "iopub.status.busy": "2023-11-20T14:19:31.236365Z",
     "iopub.status.idle": "2023-11-20T14:19:31.245568Z",
     "shell.execute_reply": "2023-11-20T14:19:31.244660Z",
     "shell.execute_reply.started": "2023-11-20T14:19:31.236666Z"
    },
    "tags": []
   },
   "outputs": [],
   "source": [
    "#Chargement des données\n",
    "#Définition des classes\n",
    "class CustomImageDataset(Dataset):\n",
    "    def __init__(self, annotations_file, img_dir, transform=None, target_transform=None):\n",
    "        self.img_labels = pd.read_csv(annotations_file)\n",
    "        self.img_dir = img_dir\n",
    "        self.transform = transform\n",
    "        self.target_transform = target_transform\n",
    "\n",
    "    def __len__(self):\n",
    "        return len(self.img_labels)\n",
    "\n",
    "    def __getitem__(self, idx):\n",
    "        img_path = os.path.join(self.img_dir, self.img_labels.iloc[idx, 0]+\".jpg\")\n",
    "        image = read_image(img_path)\n",
    "        #preprocess img\n",
    "        image=image.float()\n",
    "        image *= (1.0/image.max())\n",
    "        label = self.img_labels.iloc[idx, 1]\n",
    "        label=torch.tensor(float(label)) #preprocess label\n",
    "        if self.transform:\n",
    "            image = self.transform(image)\n",
    "        if self.target_transform:\n",
    "            label = self.target_transform(label)\n",
    "        return image, label\n",
    "    \n",
    "class CustomImageTestset(Dataset):\n",
    "    def __init__(self, annotations_file, img_dir, transform=None, target_transform=None):\n",
    "        self.img_name = pd.read_csv(annotations_file)\n",
    "        self.img_dir = img_dir\n",
    "        self.transform = transform\n",
    "        self.target_transform = target_transform\n",
    "\n",
    "    def __len__(self):\n",
    "        return len(self.img_name)\n",
    "\n",
    "    def __getitem__(self, idx):\n",
    "        img_path = os.path.join(self.img_dir, self.img_name.iloc[idx,0]+\".jpg\")\n",
    "        image = read_image(img_path)\n",
    "        image=image.float()\n",
    "        image *= (1.0/image.max())\n",
    "        if self.transform:\n",
    "            image = self.transform(image)\n",
    "        return image\n",
    "\n"
   ]
  },
  {
   "cell_type": "code",
   "execution_count": 18,
   "id": "f4801bc3-4f99-4373-9725-93a87ef8592f",
   "metadata": {
    "execution": {
     "iopub.execute_input": "2023-11-20T14:19:31.246856Z",
     "iopub.status.busy": "2023-11-20T14:19:31.246590Z",
     "iopub.status.idle": "2023-11-20T14:19:31.768953Z",
     "shell.execute_reply": "2023-11-20T14:19:31.768213Z",
     "shell.execute_reply.started": "2023-11-20T14:19:31.246835Z"
    },
    "tags": []
   },
   "outputs": [],
   "source": [
    "#Chargement des données\n",
    "#Instanciation des dataloaders\n",
    "# Define data augmentation transforms\n",
    "data_augm = transforms.Compose([\n",
    "    transforms.RandomRotation(10),\n",
    "    transforms.RandomHorizontalFlip(),\n",
    "    transforms.RandomVerticalFlip(),\n",
    "])\n",
    "dataset=CustomImageDataset(annotations_file='./train-labels.csv',img_dir='./train-resized',transform=data_augm)\n",
    "generator1 = torch.Generator().manual_seed(42)\n",
    "l=len(dataset)\n",
    "\n",
    "\n",
    "augment =0\n",
    "if augment :\n",
    "    \n",
    "    # Create an addtion class 1 from all data\n",
    "    class1_samples = [dataset[i] for i in range(l) if dataset[i][1] == 1]\n",
    "\n",
    "    # Apply data augmentation to class 1 samples and add to train_dataset\n",
    "    dataset += [(data_augmentation(sample[0]), 1) for sample in class1_samples]\n",
    "    l=len(dataset)\n",
    "    # print([d[:][1] for d in dataset])\n",
    "    # _,_,count=torch.unique((d[:][1] for d in dataset),return_counts=True)\n",
    "    # print(f\"Classe du dataset train+val : {count}\\n-------------------------------\")\n",
    "else:\n",
    "#     print(f\"Classe du dataset train+val : {torch.unique(dataset.target, return_counts=True)}\\n-------------------------------\")\n",
    "\n",
    "    train_dataset,val_dataset=random_split(dataset,[round(0.9*l), round(0.1*l)], generator=generator1)\n",
    "\n",
    "test_dataset=CustomImageTestset(annotations_file='./test-name.csv',img_dir='./test-resized')\n",
    "\n",
    "\n",
    "label_train = [train_dataset.dataset.img_labels.iloc[i,1] for i in train_dataset.indices]\n",
    "class_sample_count = np.array([len(np.where(label_train == t)[0]) for t in np.unique(label_train)])\n",
    "# print(f\"Classe du dataset train : {dict(Counter(val_dataset.dataset.img_labels.iloc[i,1] for i in val_dataset.indices))}\\n-------------------------------\")\n"
   ]
  },
  {
   "cell_type": "code",
   "execution_count": 19,
   "id": "5a9c39e8-ca7d-45d3-a265-b41c578ec3ed",
   "metadata": {
    "execution": {
     "iopub.execute_input": "2023-11-20T14:19:31.772341Z",
     "iopub.status.busy": "2023-11-20T14:19:31.772015Z",
     "iopub.status.idle": "2023-11-20T14:19:31.786728Z",
     "shell.execute_reply": "2023-11-20T14:19:31.786104Z",
     "shell.execute_reply.started": "2023-11-20T14:19:31.772319Z"
    },
    "tags": []
   },
   "outputs": [],
   "source": [
    "#Mise en forme des données\n",
    "\n",
    "batch_size = 25\n",
    "\n",
    "#distribue les classes dans chaque sample\n",
    "weight = 1. / class_sample_count\n",
    "samples_weight = np.array([weight[t] for t in label_train])\n",
    "samples_weight = torch.from_numpy(samples_weight)\n",
    "sampler = WeightedRandomSampler(samples_weight.type('torch.DoubleTensor'), len(samples_weight),replacement=True)\n",
    "samp=True\n",
    "# Create data loaders.\n",
    "if samp:\n",
    "    train_dataloader = DataLoader(train_dataset, batch_size=batch_size,num_workers=4,sampler=sampler)\n",
    "else:\n",
    "    train_dataloader = DataLoader(train_dataset, batch_size=batch_size,num_workers=4)\n",
    "test_dataloader = DataLoader(test_dataset, batch_size=batch_size,shuffle=True,num_workers=4)\n",
    "val_dataloader=DataLoader(val_dataset, batch_size=batch_size,shuffle=False,num_workers=4)\n"
   ]
  },
  {
   "cell_type": "code",
   "execution_count": 20,
   "id": "c144c713-3b94-4d50-a855-746d37ae76ab",
   "metadata": {
    "execution": {
     "iopub.execute_input": "2023-11-20T14:19:31.788340Z",
     "iopub.status.busy": "2023-11-20T14:19:31.788023Z",
     "iopub.status.idle": "2023-11-20T14:19:32.308546Z",
     "shell.execute_reply": "2023-11-20T14:19:32.307803Z",
     "shell.execute_reply.started": "2023-11-20T14:19:31.788310Z"
    },
    "tags": []
   },
   "outputs": [
    {
     "name": "stdout",
     "output_type": "stream",
     "text": [
      "Using cuda device\n"
     ]
    },
    {
     "data": {
      "text/plain": [
       "ResNet(\n",
       "  (conv1): Conv2d(3, 64, kernel_size=(7, 7), stride=(2, 2), padding=(3, 3), bias=False)\n",
       "  (bn1): BatchNorm2d(64, eps=1e-05, momentum=0.1, affine=True, track_running_stats=True)\n",
       "  (relu): ReLU(inplace=True)\n",
       "  (maxpool): MaxPool2d(kernel_size=3, stride=2, padding=1, dilation=1, ceil_mode=False)\n",
       "  (layer1): Sequential(\n",
       "    (0): Bottleneck(\n",
       "      (conv1): Conv2d(64, 64, kernel_size=(1, 1), stride=(1, 1), bias=False)\n",
       "      (bn1): BatchNorm2d(64, eps=1e-05, momentum=0.1, affine=True, track_running_stats=True)\n",
       "      (conv2): Conv2d(64, 64, kernel_size=(3, 3), stride=(1, 1), padding=(1, 1), bias=False)\n",
       "      (bn2): BatchNorm2d(64, eps=1e-05, momentum=0.1, affine=True, track_running_stats=True)\n",
       "      (conv3): Conv2d(64, 256, kernel_size=(1, 1), stride=(1, 1), bias=False)\n",
       "      (bn3): BatchNorm2d(256, eps=1e-05, momentum=0.1, affine=True, track_running_stats=True)\n",
       "      (relu): ReLU(inplace=True)\n",
       "      (downsample): Sequential(\n",
       "        (0): Conv2d(64, 256, kernel_size=(1, 1), stride=(1, 1), bias=False)\n",
       "        (1): BatchNorm2d(256, eps=1e-05, momentum=0.1, affine=True, track_running_stats=True)\n",
       "      )\n",
       "    )\n",
       "    (1): Bottleneck(\n",
       "      (conv1): Conv2d(256, 64, kernel_size=(1, 1), stride=(1, 1), bias=False)\n",
       "      (bn1): BatchNorm2d(64, eps=1e-05, momentum=0.1, affine=True, track_running_stats=True)\n",
       "      (conv2): Conv2d(64, 64, kernel_size=(3, 3), stride=(1, 1), padding=(1, 1), bias=False)\n",
       "      (bn2): BatchNorm2d(64, eps=1e-05, momentum=0.1, affine=True, track_running_stats=True)\n",
       "      (conv3): Conv2d(64, 256, kernel_size=(1, 1), stride=(1, 1), bias=False)\n",
       "      (bn3): BatchNorm2d(256, eps=1e-05, momentum=0.1, affine=True, track_running_stats=True)\n",
       "      (relu): ReLU(inplace=True)\n",
       "    )\n",
       "    (2): Bottleneck(\n",
       "      (conv1): Conv2d(256, 64, kernel_size=(1, 1), stride=(1, 1), bias=False)\n",
       "      (bn1): BatchNorm2d(64, eps=1e-05, momentum=0.1, affine=True, track_running_stats=True)\n",
       "      (conv2): Conv2d(64, 64, kernel_size=(3, 3), stride=(1, 1), padding=(1, 1), bias=False)\n",
       "      (bn2): BatchNorm2d(64, eps=1e-05, momentum=0.1, affine=True, track_running_stats=True)\n",
       "      (conv3): Conv2d(64, 256, kernel_size=(1, 1), stride=(1, 1), bias=False)\n",
       "      (bn3): BatchNorm2d(256, eps=1e-05, momentum=0.1, affine=True, track_running_stats=True)\n",
       "      (relu): ReLU(inplace=True)\n",
       "    )\n",
       "  )\n",
       "  (layer2): Sequential(\n",
       "    (0): Bottleneck(\n",
       "      (conv1): Conv2d(256, 128, kernel_size=(1, 1), stride=(1, 1), bias=False)\n",
       "      (bn1): BatchNorm2d(128, eps=1e-05, momentum=0.1, affine=True, track_running_stats=True)\n",
       "      (conv2): Conv2d(128, 128, kernel_size=(3, 3), stride=(2, 2), padding=(1, 1), bias=False)\n",
       "      (bn2): BatchNorm2d(128, eps=1e-05, momentum=0.1, affine=True, track_running_stats=True)\n",
       "      (conv3): Conv2d(128, 512, kernel_size=(1, 1), stride=(1, 1), bias=False)\n",
       "      (bn3): BatchNorm2d(512, eps=1e-05, momentum=0.1, affine=True, track_running_stats=True)\n",
       "      (relu): ReLU(inplace=True)\n",
       "      (downsample): Sequential(\n",
       "        (0): Conv2d(256, 512, kernel_size=(1, 1), stride=(2, 2), bias=False)\n",
       "        (1): BatchNorm2d(512, eps=1e-05, momentum=0.1, affine=True, track_running_stats=True)\n",
       "      )\n",
       "    )\n",
       "    (1): Bottleneck(\n",
       "      (conv1): Conv2d(512, 128, kernel_size=(1, 1), stride=(1, 1), bias=False)\n",
       "      (bn1): BatchNorm2d(128, eps=1e-05, momentum=0.1, affine=True, track_running_stats=True)\n",
       "      (conv2): Conv2d(128, 128, kernel_size=(3, 3), stride=(1, 1), padding=(1, 1), bias=False)\n",
       "      (bn2): BatchNorm2d(128, eps=1e-05, momentum=0.1, affine=True, track_running_stats=True)\n",
       "      (conv3): Conv2d(128, 512, kernel_size=(1, 1), stride=(1, 1), bias=False)\n",
       "      (bn3): BatchNorm2d(512, eps=1e-05, momentum=0.1, affine=True, track_running_stats=True)\n",
       "      (relu): ReLU(inplace=True)\n",
       "    )\n",
       "    (2): Bottleneck(\n",
       "      (conv1): Conv2d(512, 128, kernel_size=(1, 1), stride=(1, 1), bias=False)\n",
       "      (bn1): BatchNorm2d(128, eps=1e-05, momentum=0.1, affine=True, track_running_stats=True)\n",
       "      (conv2): Conv2d(128, 128, kernel_size=(3, 3), stride=(1, 1), padding=(1, 1), bias=False)\n",
       "      (bn2): BatchNorm2d(128, eps=1e-05, momentum=0.1, affine=True, track_running_stats=True)\n",
       "      (conv3): Conv2d(128, 512, kernel_size=(1, 1), stride=(1, 1), bias=False)\n",
       "      (bn3): BatchNorm2d(512, eps=1e-05, momentum=0.1, affine=True, track_running_stats=True)\n",
       "      (relu): ReLU(inplace=True)\n",
       "    )\n",
       "    (3): Bottleneck(\n",
       "      (conv1): Conv2d(512, 128, kernel_size=(1, 1), stride=(1, 1), bias=False)\n",
       "      (bn1): BatchNorm2d(128, eps=1e-05, momentum=0.1, affine=True, track_running_stats=True)\n",
       "      (conv2): Conv2d(128, 128, kernel_size=(3, 3), stride=(1, 1), padding=(1, 1), bias=False)\n",
       "      (bn2): BatchNorm2d(128, eps=1e-05, momentum=0.1, affine=True, track_running_stats=True)\n",
       "      (conv3): Conv2d(128, 512, kernel_size=(1, 1), stride=(1, 1), bias=False)\n",
       "      (bn3): BatchNorm2d(512, eps=1e-05, momentum=0.1, affine=True, track_running_stats=True)\n",
       "      (relu): ReLU(inplace=True)\n",
       "    )\n",
       "  )\n",
       "  (layer3): Sequential(\n",
       "    (0): Bottleneck(\n",
       "      (conv1): Conv2d(512, 256, kernel_size=(1, 1), stride=(1, 1), bias=False)\n",
       "      (bn1): BatchNorm2d(256, eps=1e-05, momentum=0.1, affine=True, track_running_stats=True)\n",
       "      (conv2): Conv2d(256, 256, kernel_size=(3, 3), stride=(2, 2), padding=(1, 1), bias=False)\n",
       "      (bn2): BatchNorm2d(256, eps=1e-05, momentum=0.1, affine=True, track_running_stats=True)\n",
       "      (conv3): Conv2d(256, 1024, kernel_size=(1, 1), stride=(1, 1), bias=False)\n",
       "      (bn3): BatchNorm2d(1024, eps=1e-05, momentum=0.1, affine=True, track_running_stats=True)\n",
       "      (relu): ReLU(inplace=True)\n",
       "      (downsample): Sequential(\n",
       "        (0): Conv2d(512, 1024, kernel_size=(1, 1), stride=(2, 2), bias=False)\n",
       "        (1): BatchNorm2d(1024, eps=1e-05, momentum=0.1, affine=True, track_running_stats=True)\n",
       "      )\n",
       "    )\n",
       "    (1): Bottleneck(\n",
       "      (conv1): Conv2d(1024, 256, kernel_size=(1, 1), stride=(1, 1), bias=False)\n",
       "      (bn1): BatchNorm2d(256, eps=1e-05, momentum=0.1, affine=True, track_running_stats=True)\n",
       "      (conv2): Conv2d(256, 256, kernel_size=(3, 3), stride=(1, 1), padding=(1, 1), bias=False)\n",
       "      (bn2): BatchNorm2d(256, eps=1e-05, momentum=0.1, affine=True, track_running_stats=True)\n",
       "      (conv3): Conv2d(256, 1024, kernel_size=(1, 1), stride=(1, 1), bias=False)\n",
       "      (bn3): BatchNorm2d(1024, eps=1e-05, momentum=0.1, affine=True, track_running_stats=True)\n",
       "      (relu): ReLU(inplace=True)\n",
       "    )\n",
       "    (2): Bottleneck(\n",
       "      (conv1): Conv2d(1024, 256, kernel_size=(1, 1), stride=(1, 1), bias=False)\n",
       "      (bn1): BatchNorm2d(256, eps=1e-05, momentum=0.1, affine=True, track_running_stats=True)\n",
       "      (conv2): Conv2d(256, 256, kernel_size=(3, 3), stride=(1, 1), padding=(1, 1), bias=False)\n",
       "      (bn2): BatchNorm2d(256, eps=1e-05, momentum=0.1, affine=True, track_running_stats=True)\n",
       "      (conv3): Conv2d(256, 1024, kernel_size=(1, 1), stride=(1, 1), bias=False)\n",
       "      (bn3): BatchNorm2d(1024, eps=1e-05, momentum=0.1, affine=True, track_running_stats=True)\n",
       "      (relu): ReLU(inplace=True)\n",
       "    )\n",
       "    (3): Bottleneck(\n",
       "      (conv1): Conv2d(1024, 256, kernel_size=(1, 1), stride=(1, 1), bias=False)\n",
       "      (bn1): BatchNorm2d(256, eps=1e-05, momentum=0.1, affine=True, track_running_stats=True)\n",
       "      (conv2): Conv2d(256, 256, kernel_size=(3, 3), stride=(1, 1), padding=(1, 1), bias=False)\n",
       "      (bn2): BatchNorm2d(256, eps=1e-05, momentum=0.1, affine=True, track_running_stats=True)\n",
       "      (conv3): Conv2d(256, 1024, kernel_size=(1, 1), stride=(1, 1), bias=False)\n",
       "      (bn3): BatchNorm2d(1024, eps=1e-05, momentum=0.1, affine=True, track_running_stats=True)\n",
       "      (relu): ReLU(inplace=True)\n",
       "    )\n",
       "    (4): Bottleneck(\n",
       "      (conv1): Conv2d(1024, 256, kernel_size=(1, 1), stride=(1, 1), bias=False)\n",
       "      (bn1): BatchNorm2d(256, eps=1e-05, momentum=0.1, affine=True, track_running_stats=True)\n",
       "      (conv2): Conv2d(256, 256, kernel_size=(3, 3), stride=(1, 1), padding=(1, 1), bias=False)\n",
       "      (bn2): BatchNorm2d(256, eps=1e-05, momentum=0.1, affine=True, track_running_stats=True)\n",
       "      (conv3): Conv2d(256, 1024, kernel_size=(1, 1), stride=(1, 1), bias=False)\n",
       "      (bn3): BatchNorm2d(1024, eps=1e-05, momentum=0.1, affine=True, track_running_stats=True)\n",
       "      (relu): ReLU(inplace=True)\n",
       "    )\n",
       "    (5): Bottleneck(\n",
       "      (conv1): Conv2d(1024, 256, kernel_size=(1, 1), stride=(1, 1), bias=False)\n",
       "      (bn1): BatchNorm2d(256, eps=1e-05, momentum=0.1, affine=True, track_running_stats=True)\n",
       "      (conv2): Conv2d(256, 256, kernel_size=(3, 3), stride=(1, 1), padding=(1, 1), bias=False)\n",
       "      (bn2): BatchNorm2d(256, eps=1e-05, momentum=0.1, affine=True, track_running_stats=True)\n",
       "      (conv3): Conv2d(256, 1024, kernel_size=(1, 1), stride=(1, 1), bias=False)\n",
       "      (bn3): BatchNorm2d(1024, eps=1e-05, momentum=0.1, affine=True, track_running_stats=True)\n",
       "      (relu): ReLU(inplace=True)\n",
       "    )\n",
       "  )\n",
       "  (layer4): Sequential(\n",
       "    (0): Bottleneck(\n",
       "      (conv1): Conv2d(1024, 512, kernel_size=(1, 1), stride=(1, 1), bias=False)\n",
       "      (bn1): BatchNorm2d(512, eps=1e-05, momentum=0.1, affine=True, track_running_stats=True)\n",
       "      (conv2): Conv2d(512, 512, kernel_size=(3, 3), stride=(2, 2), padding=(1, 1), bias=False)\n",
       "      (bn2): BatchNorm2d(512, eps=1e-05, momentum=0.1, affine=True, track_running_stats=True)\n",
       "      (conv3): Conv2d(512, 2048, kernel_size=(1, 1), stride=(1, 1), bias=False)\n",
       "      (bn3): BatchNorm2d(2048, eps=1e-05, momentum=0.1, affine=True, track_running_stats=True)\n",
       "      (relu): ReLU(inplace=True)\n",
       "      (downsample): Sequential(\n",
       "        (0): Conv2d(1024, 2048, kernel_size=(1, 1), stride=(2, 2), bias=False)\n",
       "        (1): BatchNorm2d(2048, eps=1e-05, momentum=0.1, affine=True, track_running_stats=True)\n",
       "      )\n",
       "    )\n",
       "    (1): Bottleneck(\n",
       "      (conv1): Conv2d(2048, 512, kernel_size=(1, 1), stride=(1, 1), bias=False)\n",
       "      (bn1): BatchNorm2d(512, eps=1e-05, momentum=0.1, affine=True, track_running_stats=True)\n",
       "      (conv2): Conv2d(512, 512, kernel_size=(3, 3), stride=(1, 1), padding=(1, 1), bias=False)\n",
       "      (bn2): BatchNorm2d(512, eps=1e-05, momentum=0.1, affine=True, track_running_stats=True)\n",
       "      (conv3): Conv2d(512, 2048, kernel_size=(1, 1), stride=(1, 1), bias=False)\n",
       "      (bn3): BatchNorm2d(2048, eps=1e-05, momentum=0.1, affine=True, track_running_stats=True)\n",
       "      (relu): ReLU(inplace=True)\n",
       "    )\n",
       "    (2): Bottleneck(\n",
       "      (conv1): Conv2d(2048, 512, kernel_size=(1, 1), stride=(1, 1), bias=False)\n",
       "      (bn1): BatchNorm2d(512, eps=1e-05, momentum=0.1, affine=True, track_running_stats=True)\n",
       "      (conv2): Conv2d(512, 512, kernel_size=(3, 3), stride=(1, 1), padding=(1, 1), bias=False)\n",
       "      (bn2): BatchNorm2d(512, eps=1e-05, momentum=0.1, affine=True, track_running_stats=True)\n",
       "      (conv3): Conv2d(512, 2048, kernel_size=(1, 1), stride=(1, 1), bias=False)\n",
       "      (bn3): BatchNorm2d(2048, eps=1e-05, momentum=0.1, affine=True, track_running_stats=True)\n",
       "      (relu): ReLU(inplace=True)\n",
       "    )\n",
       "  )\n",
       "  (avgpool): AdaptiveAvgPool2d(output_size=(1, 1))\n",
       "  (fc): Linear(in_features=2048, out_features=1, bias=True)\n",
       ")"
      ]
     },
     "execution_count": 20,
     "metadata": {},
     "output_type": "execute_result"
    }
   ],
   "source": [
    "# Création du modèle\n",
    "import torchvision.models as models #import resnet18, ResNet18_Weights\n",
    "device = (\n",
    "    \"cuda\"\n",
    "    if torch.cuda.is_available()\n",
    "    else \"mps\"\n",
    "    if torch.backends.mps.is_available()\n",
    "    else \"cpu\"\n",
    ")\n",
    "\n",
    "print(f\"Using {device} device\")\n",
    "\n",
    "# Modèle pré_entraîné  \n",
    "model = resnet50(pretrained = True)\n",
    "\n",
    "# on gèle les couches(pour éviter leur rétropropagation )\n",
    "for param in model.parameters() : \n",
    "    param.requires_grad = True\n",
    "\n",
    "# Modification de la dernière couche \n",
    "# number_classes = len(train_dataset.classes)\n",
    "model.fc = nn.Linear(model.fc.in_features, 1)\n",
    "model.to(device)\n",
    "\n",
    "# # Define model\n",
    "# model = models.resnet18(pretrained=True)\n",
    "# #freeze params\n",
    "# for params in model.parameters():\n",
    "#   params.requires_grad_ = True\n",
    "\n",
    "# model= model.cuda()\n",
    "# num_ftrs = model.fc.in_features\n",
    "# model.fc = nn.Linear(num_ftrs, 1)\n",
    "# model.fc = model.fc.cuda()  if device==\"cuda\" else net.fc\n",
    "# # print(model)"
   ]
  },
  {
   "cell_type": "code",
   "execution_count": 21,
   "id": "f2cc27e4-33a9-4dc1-9a22-d2595b6ffb1f",
   "metadata": {
    "execution": {
     "iopub.execute_input": "2023-11-20T14:19:32.310066Z",
     "iopub.status.busy": "2023-11-20T14:19:32.309758Z",
     "iopub.status.idle": "2023-11-20T14:19:32.315976Z",
     "shell.execute_reply": "2023-11-20T14:19:32.315319Z",
     "shell.execute_reply.started": "2023-11-20T14:19:32.310039Z"
    },
    "tags": []
   },
   "outputs": [],
   "source": [
    "#défini la fonction de perte et l'optimiseur\n",
    "pos_weight=torch.tensor(class_sample_count[0]/class_sample_count[1])\n",
    "loss_fn = nn.BCEWithLogitsLoss(pos_weight = pos_weight)\n",
    "optimizer = torch.optim.Adam(model.parameters(), lr=1e-3)"
   ]
  },
  {
   "cell_type": "code",
   "execution_count": 22,
   "id": "3fbc7e42-0174-4fdd-ad51-cca53531d8c5",
   "metadata": {
    "execution": {
     "iopub.execute_input": "2023-11-20T14:19:32.317203Z",
     "iopub.status.busy": "2023-11-20T14:19:32.316868Z",
     "iopub.status.idle": "2023-11-20T14:19:32.325676Z",
     "shell.execute_reply": "2023-11-20T14:19:32.324905Z",
     "shell.execute_reply.started": "2023-11-20T14:19:32.317180Z"
    },
    "tags": []
   },
   "outputs": [],
   "source": [
    "#val\n",
    "def val(model,loss_fn,val_dataloader,csv_file,loss=None,nb=\"Last\"):\n",
    "    val_loss = 0.0\n",
    "    correct_predictions = 0\n",
    "    total_samples = 0\n",
    "    total_samples_0 = 0\n",
    "    total_samples_1 = 0\n",
    "    correct_predictions_0 = 0\n",
    "    correct_predictions_1 = 0\n",
    "    num_batches = len(val_dataloader)\n",
    "    \n",
    "    with torch.no_grad():\n",
    "        model.eval()  # Set the model to evaluation mode\n",
    "        for val_batch, (val_X, val_y) in enumerate(val_dataloader):\n",
    "            val_X, val_y = val_X.to(device), val_y.to(device)\n",
    "            val_pred = model(val_X)\n",
    "            val_loss += loss_fn(val_pred.squeeze(), val_y).item()\n",
    "            # Calculate accuracy for each class\n",
    "            predicted_labels=torch.sigmoid(val_pred.T)\n",
    "            correct_predictions_0 += ((val_y == 0) & (predicted_labels < 0.5)).sum().item()\n",
    "            correct_predictions_1 += ((val_y == 1) & (predicted_labels >= 0.5)).sum().item()\n",
    "            total_samples_0 += (val_y == 0).sum().item()\n",
    "            total_samples_1 += (val_y == 1).sum().item()\n",
    " \n",
    "        accuracy_0 = correct_predictions_0 / total_samples_0\n",
    "        accuracy_1 = correct_predictions_1 / total_samples_1\n",
    "        accuracy_gen= (correct_predictions_0+correct_predictions_1) / (total_samples_0+total_samples_1)\n",
    "        avg_val_loss = val_loss / (val_batch + 1)\n",
    "        with open(csv_file, 'a', newline='') as file:\n",
    "            writer = csv.writer(file)\n",
    "            if loss==None:\n",
    "                writer.writerow([nb,round(accuracy_gen,3),round(accuracy_0,3),round(accuracy_1,3),round(avg_val_loss,3)])\n",
    "            else:\n",
    "                writer.writerow([nb,round(accuracy_gen,3),round(accuracy_0,3),round(accuracy_1,3),round(avg_val_loss,3),torch.round(loss,decimals=3).item()])\n",
    "    \n",
    "    \n",
    "\n"
   ]
  },
  {
   "cell_type": "code",
   "execution_count": 23,
   "id": "52063903-5252-4239-bc0d-60890df57f13",
   "metadata": {
    "execution": {
     "iopub.execute_input": "2023-11-20T14:19:32.328937Z",
     "iopub.status.busy": "2023-11-20T14:19:32.328385Z",
     "iopub.status.idle": "2023-11-20T14:46:26.164627Z",
     "shell.execute_reply": "2023-11-20T14:46:26.163684Z",
     "shell.execute_reply.started": "2023-11-20T14:19:32.328906Z"
    },
    "tags": []
   },
   "outputs": [
    {
     "name": "stdout",
     "output_type": "stream",
     "text": [
      "Number of batches : 1193\n",
      "-------------------------------\n",
      "Epoch 1\n",
      "-------------------------------\n"
     ]
    },
    {
     "name": "stderr",
     "output_type": "stream",
     "text": [
      "100%|██████████| 1193/1193 [05:10<00:00,  3.84it/s]\n"
     ]
    },
    {
     "name": "stdout",
     "output_type": "stream",
     "text": [
      "Epoch 2\n",
      "-------------------------------\n"
     ]
    },
    {
     "name": "stderr",
     "output_type": "stream",
     "text": [
      "100%|██████████| 1193/1193 [05:10<00:00,  3.84it/s]\n"
     ]
    },
    {
     "name": "stdout",
     "output_type": "stream",
     "text": [
      "Epoch 3\n",
      "-------------------------------\n"
     ]
    },
    {
     "name": "stderr",
     "output_type": "stream",
     "text": [
      "100%|██████████| 1193/1193 [05:10<00:00,  3.84it/s]\n"
     ]
    },
    {
     "name": "stdout",
     "output_type": "stream",
     "text": [
      "Epoch 4\n",
      "-------------------------------\n"
     ]
    },
    {
     "name": "stderr",
     "output_type": "stream",
     "text": [
      "100%|██████████| 1193/1193 [05:10<00:00,  3.84it/s]\n"
     ]
    },
    {
     "name": "stdout",
     "output_type": "stream",
     "text": [
      "Epoch 5\n",
      "-------------------------------\n"
     ]
    },
    {
     "name": "stderr",
     "output_type": "stream",
     "text": [
      "100%|██████████| 1193/1193 [05:10<00:00,  3.84it/s]\n"
     ]
    },
    {
     "name": "stdout",
     "output_type": "stream",
     "text": [
      "Done!\n"
     ]
    }
   ],
   "source": [
    "# fonction qui calcule la précision de validation\n",
    "def calculate_val_accuracy():\n",
    "    model.eval()  # mettre le modèle en mode d'évaluation\n",
    "    correct = 0\n",
    "    total = 0\n",
    "\n",
    "    with torch.no_grad():\n",
    "        for images, labels in val_dataloader:\n",
    "            images, labels = images.to(device), labels.to(device)\n",
    "            outputs = model(images)\n",
    "            _, predicted = torch.max(outputs.data, 1)\n",
    "            total += labels.size(0)\n",
    "            correct += (predicted == labels).sum().item()\n",
    "\n",
    "    model.train()  # remettre le modèle en mode d'entraînement\n",
    "    return correct / total\n",
    "#training\n",
    "\n",
    "# Initialisation\n",
    "best_val_accuracy = 0\n",
    "patience = 10\n",
    "epochs_no_improve = 0\n",
    "\n",
    "epochs=15\n",
    "nb_batch=len(train_dataloader)\n",
    "print(f\"Number of batches : {nb_batch}\\n-------------------------------\")\n",
    "with open('val'+str(batch_size)+'.csv', 'w', newline='') as file:\n",
    "    writer = csv.writer(file)\n",
    "    field = [\"epoch\",\"gen acc\",\"acc0\",\"acc1\",\"val_loss\",\"loss\"]\n",
    "    writer.writerow(field)\n",
    "for t in range(epochs):\n",
    "    print(f\"Epoch {t+1}\\n-------------------------------\")\n",
    "    size = len(train_dataset)\n",
    "    model.train()\n",
    "    for batch, (X, y) in tqdm(enumerate(train_dataloader), total=nb_batch):\n",
    "        X, y = X.to(device), y.to(device)\n",
    "        \n",
    "        # Compute prediction error\n",
    "        pred = model(X)\n",
    "        loss = loss_fn(pred.squeeze(), y)\n",
    "\n",
    "        # Backpropagation\n",
    "        loss.backward()\n",
    "        optimizer.step()\n",
    "        optimizer.zero_grad()\n",
    "        \n",
    "        \n",
    "    val(model,loss_fn,val_dataloader,'val'+str(batch_size)+'.csv',loss=loss,nb=t)\n",
    "        # if batch+1 % round((nb_batch-1)/3) == 0:\n",
    "        #     loss, current = loss.item(), (batch + 1) * len(X)\n",
    "        #     print(f\"loss: {loss:>7f}  [{current:>5d}/{size:>5d}]\")\n",
    "#     # Calcul de la précision de validation\n",
    "#     val_accuracy = calculate_val_accuracy()\n",
    "\n",
    "#     # Vérifiez si la précision de validation a augmenté\n",
    "#     if val_accuracy > best_val_accuracy:\n",
    "#         best_val_accuracy = val_accuracy\n",
    "#         epochs_no_improve = 0\n",
    "#         # Sauvegardez le modèle\n",
    "#         torch.save(model.state_dict(), 'best_model.pt')\n",
    "#     else:\n",
    "#         epochs_no_improve += 1\n",
    "#         # Arrêtez l'entraînement si la précision de validation ne s'améliore pas pendant 'patience' époques\n",
    "#         if epochs_no_improve == patience:\n",
    "#             print('Early stopping!')\n",
    "#             break\n",
    "        \n",
    "        \n",
    "print(\"Done!\")\n"
   ]
  },
  {
   "cell_type": "code",
   "execution_count": 24,
   "id": "f285b180-8292-45cd-b93f-4c7ea260ae58",
   "metadata": {
    "execution": {
     "iopub.execute_input": "2023-11-20T14:46:26.166549Z",
     "iopub.status.busy": "2023-11-20T14:46:26.165988Z",
     "iopub.status.idle": "2023-11-20T14:46:26.574041Z",
     "shell.execute_reply": "2023-11-20T14:46:26.573243Z",
     "shell.execute_reply.started": "2023-11-20T14:46:26.166508Z"
    },
    "tags": []
   },
   "outputs": [
    {
     "data": {
      "image/png": "[encoded data removed]",
      "text/plain": [
       "<Figure size 640x480 with 2 Axes>"
      ]
     },
     "metadata": {},
     "output_type": "display_data"
    }
   ],
   "source": [
    "#Visualize data\n",
    "\n",
    "figure, axis = plt.subplots(2, 1)\n",
    "csv_file=pd.read_csv('val'+str(batch_size)+'.csv')\n",
    "axis[0].plot(csv_file[\"epoch\"], csv_file[\"loss\"], color='orange', label='Training loss')\n",
    "axis[0].plot(csv_file[\"epoch\"], csv_file[\"val_loss\"], 'b', label='Validation loss')\n",
    "axis[0].set_title('Training and validation loss')\n",
    "axis[0].set_xlabel('Epochs')\n",
    "axis[0].set_ylabel('Loss')\n",
    "axis[0].legend()\n",
    "\n",
    "axis[1].plot(csv_file[\"epoch\"], csv_file[\"acc1\"], color='orange', label='Accuracy on class 1')\n",
    "axis[1].plot(csv_file[\"epoch\"], csv_file[\"acc0\"], 'b', label='Accuracy on class 0')\n",
    "axis[1].plot(csv_file[\"epoch\"], csv_file[\"gen acc\"], 'g', label='General accuracy')\n",
    "axis[1].set_title('Accuracy on validation set')\n",
    "axis[1].set_xlabel('Epochs')\n",
    "axis[1].set_ylabel('Accuracy')\n",
    "axis[1].legend()\n",
    "\n",
    "plt.tight_layout()\n",
    "plt.savefig(\"Metrics\"+str(batch_size)+\".png\")\n",
    "plt.show()"
   ]
  },
  {
   "cell_type": "code",
   "execution_count": 25,
   "id": "e3284ec0-e0dd-4e25-90b5-fdb3b4b51f82",
   "metadata": {
    "execution": {
     "iopub.execute_input": "2023-11-20T14:46:26.575287Z",
     "iopub.status.busy": "2023-11-20T14:46:26.575001Z",
     "iopub.status.idle": "2023-11-20T14:46:58.577082Z",
     "shell.execute_reply": "2023-11-20T14:46:58.576220Z",
     "shell.execute_reply.started": "2023-11-20T14:46:26.575266Z"
    },
    "tags": []
   },
   "outputs": [
    {
     "name": "stderr",
     "output_type": "stream",
     "text": [
      "440it [00:31, 13.80it/s]\n"
     ]
    }
   ],
   "source": [
    "#test\n",
    "\n",
    "num_batches = len(test_dataloader)\n",
    "with torch.no_grad():\n",
    "    model.eval()  # Set the model to evaluation mode\n",
    "    with open('test'+str(batch_size)+'.csv', 'w', newline='') as file:\n",
    "        writer = csv.writer(file)\n",
    "        field = [\"image_name\",\"target\"]\n",
    "        writer.writerow(field)\n",
    "        for test_batch, test_X in tqdm(enumerate(test_dataloader)):\n",
    "            test_X = test_X.to(device)\n",
    "            test_pred = model(test_X)\n",
    "            predicted_labels=torch.sigmoid(test_pred)\n",
    "           \n",
    "            for i,x in enumerate(predicted_labels) :\n",
    "                # print(test_batch)\n",
    "                # print(i)\n",
    "                writer.writerow([test_dataloader.dataset.img_name.iloc[(batch_size*test_batch)+i, 0],round(x.item(),3)])"
   ]
  },
  {
   "cell_type": "code",
   "execution_count": 26,
   "id": "6afd65a3-2639-44d7-9c2a-4f0f915ffe2a",
   "metadata": {
    "execution": {
     "iopub.execute_input": "2023-11-20T14:46:58.578694Z",
     "iopub.status.busy": "2023-11-20T14:46:58.578349Z",
     "iopub.status.idle": "2023-11-20T14:46:58.585009Z",
     "shell.execute_reply": "2023-11-20T14:46:58.584421Z",
     "shell.execute_reply.started": "2023-11-20T14:46:58.578667Z"
    },
    "tags": []
   },
   "outputs": [],
   "source": [
    "# #ancien val\n",
    "# val_loss = 0.0\n",
    "# correct_predictions = 0\n",
    "# total_samples = 0\n",
    "# total_samples_0 = 0\n",
    "# total_samples_1 = 0\n",
    "# correct_predictions_0 = 0\n",
    "# correct_predictions_1 = 0\n",
    "# size = len(val_dataset)\n",
    "# num_batches = len(val_dataloader)\n",
    "\n",
    "# with torch.no_grad():\n",
    "#     model.eval()  # Set the model to evaluation mode\n",
    "#     for val_batch, (val_X, val_y) in tqdm(enumerate(val_dataloader)):\n",
    "#         val_X, val_y = val_X.to(device), val_y.to(device)\n",
    "\n",
    "#         val_pred = model(val_X)\n",
    "#         val_loss += loss_fn(val_pred.squeeze(), val_y).item()\n",
    "#         predicted_labels=torch.sigmoid(val_pred.T)\n",
    "#         #_, predicted_labels = torch.max(val_pred, 1)\n",
    "#         # print(val_y)\n",
    "#         # print(\"aa\",predicted_labels)\n",
    "#         correct_predictions_0 += ((val_y == 0) & (predicted_labels < 0.5)).sum().item()\n",
    "#         correct_predictions_1 += ((val_y == 1) & (predicted_labels >= 0.5)).sum().item()\n",
    "        \n",
    "#         # print(((val_y == 0) & (predicted_labels < 0.5)).sum())\n",
    "#         # for i,x in enumerate(predicted_labels) :\n",
    "#             # if (val_y[i] == 0):\n",
    "#             #     # writer.writerow([x.item(),val_y[i].item(),(x < 0.5).item()])\n",
    "#             #     pass\n",
    "#             # else:\n",
    "#             #     writer.writerow([x.item(),val_y[i].item(),(x > 0.5).item()])\n",
    "\n",
    "#         # Calculate accuracy for each class\n",
    "#         total_samples_0 += (val_y == 0).sum().item()\n",
    "#         total_samples_1 += (val_y == 1).sum().item()\n",
    "#         # if val_batch % round(num_batches) == 0 | (predicted_labels > 0.5).sum()>0:\n",
    "#         #     print(f\"pred: {torch.sigmoid(val_pred.T)}\\n y:{val_y}\")\n",
    "\n",
    "# accuracy_0 = correct_predictions_0 / total_samples_0\n",
    "# accuracy_1 = correct_predictions_1 / total_samples_1\n",
    "# accuracy_gen= (correct_predictions_0+correct_predictions_1) / (total_samples_0+total_samples_1)\n",
    "# avg_val_loss = val_loss / (val_batch + 1)\n",
    "# with open('val'+str(batch_size)+'.csv', 'w', newline='') as file:\n",
    "#     writer = csv.writer(file)\n",
    "#     field = [\"gen acc\",\"acc0\",\"acc1\",\"loss\"]\n",
    "#     writer.writerow(field)\n",
    "#     writer.writerow([accuracy_gen,accuracy_0,accuracy_1,avg_val_loss])\n",
    "# print(f\"Validation loss: {avg_val_loss:.4f}    Accuracy:{accuracy_gen:.4f}\")\n",
    "# # Display class-wise accuracy\n",
    "# print(f\"        Accuracy for class 0: {accuracy_0:.4f}    class 1: {accuracy_1:.4f}\")\n",
    "# print()"
   ]
  }
 ],
 "metadata": {
  "kernelspec": {
   "display_name": "saturn (Python 3)",
   "language": "python",
   "name": "python3"
  },
  "language_info": {
   "codemirror_mode": {
    "name": "ipython",
    "version": 3
   },
   "file_extension": ".py",
   "mimetype": "text/x-python",
   "name": "python",
   "nbconvert_exporter": "python",
   "pygments_lexer": "ipython3",
   "version": "3.9.15"
  }
 },
 "nbformat": 4,
 "nbformat_minor": 5
}
