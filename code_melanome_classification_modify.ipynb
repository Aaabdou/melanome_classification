{
 "cells": [
  {
   "cell_type": "code",
   "execution_count": 77,
   "id": "e7f871e7-7c4d-431f-b12e-465450d14f32",
   "metadata": {
    "execution": {
     "iopub.execute_input": "2023-11-20T11:38:36.955842Z",
     "iopub.status.busy": "2023-11-20T11:38:36.955464Z",
     "iopub.status.idle": "2023-11-20T11:38:40.600702Z",
     "shell.execute_reply": "2023-11-20T11:38:40.599929Z",
     "shell.execute_reply.started": "2023-11-20T11:38:36.955813Z"
    },
    "tags": []
   },
   "outputs": [
    {
     "name": "stdout",
     "output_type": "stream",
     "text": [
      "Requirement already satisfied: patool in /opt/saturncloud/envs/saturn/lib/python3.9/site-packages (1.15.0)\n",
      "patool: Extracting test-resized.zip ...\n",
      "patool: ... test-resized.zip extracted to `test-resized1' (local file exists).\n"
     ]
    },
    {
     "data": {
      "text/plain": [
       "'test-resized1'"
      ]
     },
     "execution_count": 77,
     "metadata": {},
     "output_type": "execute_result"
    }
   ],
   "source": [
    "!pip install patool\n",
    "import patoolib\n",
    "import shutil\n",
    "# # patoolib.extract_archive(\"isic-2020-resized.zip\")\n",
    "\n",
    "# shutil.move(\"./isic-2020-resized/test-resized.zip\",\"./\")\n",
    "# shutil.move(\"./isic-2020-resized/train-resized.zip\",\"./\")\n",
    "\n",
    "# patoolib.extract_archive(\"train-resized.zip\")\n",
    "# patoolib.extract_archive(\"test-resized.zip\")"
   ]
  },
  {
   "cell_type": "code",
   "execution_count": null,
   "id": "ccff68df-394b-4282-b1ca-faf685f41f7b",
   "metadata": {},
   "outputs": [],
   "source": []
  },
  {
   "cell_type": "code",
   "execution_count": 3,
   "id": "ce873a9f-937c-4030-99b1-aca2d9797461",
   "metadata": {
    "execution": {
     "iopub.execute_input": "2023-11-20T11:38:40.602342Z",
     "iopub.status.busy": "2023-11-20T11:38:40.602010Z",
     "iopub.status.idle": "2023-11-20T11:38:43.006121Z",
     "shell.execute_reply": "2023-11-20T11:38:43.005376Z",
     "shell.execute_reply.started": "2023-11-20T11:38:40.602319Z"
    },
    "tags": []
   },
   "outputs": [],
   "source": [
    "#Imports\n",
    "import numpy as np\n",
    "import torch\n",
    "import torchvision\n",
    "from torch import nn\n",
    "from torch.utils.data import DataLoader,Dataset,random_split,WeightedRandomSampler\n",
    "from torchvision import datasets,transforms\n",
    "from torchvision.transforms import ToTensor\n",
    "import matplotlib.pyplot as plt\n",
    "import csv\n",
    "import os\n",
    "import pandas as pd\n",
    "from torchvision.io import read_image\n",
    "from collections import Counter"
   ]
  },
  {
   "cell_type": "code",
   "execution_count": 4,
   "id": "1236772f-2e71-4df8-ba0c-c84a6df9d6e0",
   "metadata": {
    "execution": {
     "iopub.execute_input": "2023-11-20T11:38:43.007892Z",
     "iopub.status.busy": "2023-11-20T11:38:43.007582Z",
     "iopub.status.idle": "2023-11-20T11:38:43.034814Z",
     "shell.execute_reply": "2023-11-20T11:38:43.034237Z",
     "shell.execute_reply.started": "2023-11-20T11:38:43.007868Z"
    },
    "tags": []
   },
   "outputs": [
    {
     "name": "stdout",
     "output_type": "stream",
     "text": [
      "Done!\n"
     ]
    }
   ],
   "source": [
    "#create csv file for test\n",
    "csv_exist=False\n",
    "if not csv_exist:\n",
    "    img_dir=\"./test-resized\"\n",
    "    with open('test-name.csv', 'w', newline='') as file:\n",
    "        writer = csv.writer(file)\n",
    "        field = [\"name\"]\n",
    "        writer.writerow(field)\n",
    "        for x in os.listdir(img_dir):\n",
    "            writer.writerow([os.path.splitext(x)[0]])\n",
    "    print(\"Done!\")"
   ]
  },
  {
   "cell_type": "code",
   "execution_count": 7,
   "id": "b9de3e27-b4f8-43e4-9c3c-ee2fe4209492",
   "metadata": {
    "execution": {
     "iopub.execute_input": "2023-11-20T11:38:50.152548Z",
     "iopub.status.busy": "2023-11-20T11:38:50.152175Z",
     "iopub.status.idle": "2023-11-20T11:38:50.161292Z",
     "shell.execute_reply": "2023-11-20T11:38:50.160591Z",
     "shell.execute_reply.started": "2023-11-20T11:38:50.152526Z"
    },
    "tags": []
   },
   "outputs": [
    {
     "name": "stdout",
     "output_type": "stream",
     "text": [
      "Done\n"
     ]
    }
   ],
   "source": [
    "#Chargement des données\n",
    "#Définition des classes\n",
    "class CustomImageDataset(Dataset):\n",
    "    def __init__(self, annotations_file, img_dir, transform=None, target_transform=None):\n",
    "        self.img_labels = pd.read_csv(annotations_file)\n",
    "        self.img_dir = img_dir\n",
    "        self.transform = transform\n",
    "        self.target_transform = target_transform\n",
    "        self.target=torch.tensor(self.img_labels.iloc[:, 1])\n",
    "        \n",
    "    def __len__(self):\n",
    "        return len(self.img_labels)\n",
    "\n",
    "    def __getitem__(self, idx):\n",
    "        img_path = os.path.join(self.img_dir, self.img_labels.iloc[idx, 0]+\".jpg\")\n",
    "        image = read_image(img_path)\n",
    "        #preprocess img\n",
    "        image=image.float()\n",
    "        image *= (1.0/image.max())\n",
    "        label = self.img_labels.iloc[idx, 1]\n",
    "        label=torch.tensor(float(label)) #preprocess label\n",
    "        \n",
    "        if label.item()==1. and self.transform:\n",
    "            image = self.transform(image)\n",
    "        \n",
    "        \n",
    "        # if self.target_transform:\n",
    "        #     label = self.target_transform(label)\n",
    "        return image, label\n",
    "    \n",
    "class CustomImageTestset(Dataset):\n",
    "    def __init__(self, annotations_file, img_dir, transform=None, target_transform=None):\n",
    "        self.img_name = pd.read_csv(annotations_file)\n",
    "        self.img_dir = img_dir\n",
    "        self.transform = transform\n",
    "        self.target_transform = target_transform\n",
    "\n",
    "    def __len__(self):\n",
    "        return len(self.img_name)\n",
    "\n",
    "    def __getitem__(self, idx):\n",
    "        img_path = os.path.join(self.img_dir, self.img_name.iloc[idx,0]+\".jpg\")\n",
    "        image = read_image(img_path)\n",
    "        name=self.img_name.iloc[idx,0]\n",
    "        image=image.float()\n",
    "        image *= (1.0/image.max())\n",
    "        if self.transform:\n",
    "            image = self.transform(image)\n",
    "        return image,name\n",
    "\n",
    "print(\"Done\")"
   ]
  },
  {
   "cell_type": "code",
   "execution_count": 8,
   "id": "db94646b-1123-4680-9e76-78361ca83279",
   "metadata": {
    "execution": {
     "iopub.execute_input": "2023-11-20T11:39:37.233612Z",
     "iopub.status.busy": "2023-11-20T11:39:37.233236Z",
     "iopub.status.idle": "2023-11-20T11:39:37.340993Z",
     "shell.execute_reply": "2023-11-20T11:39:37.340270Z",
     "shell.execute_reply.started": "2023-11-20T11:39:37.233589Z"
    },
    "tags": []
   },
   "outputs": [
    {
     "name": "stdout",
     "output_type": "stream",
     "text": [
      "tensor(0.)\n"
     ]
    }
   ],
   "source": [
    "dataset=CustomImageDataset(annotations_file='./train-labels.csv',img_dir='./train-resized')\n",
    "print(dataset[0][1])"
   ]
  },
  {
   "cell_type": "code",
   "execution_count": null,
   "id": "f4801bc3-4f99-4373-9725-93a87ef8592f",
   "metadata": {
    "execution": {
     "iopub.execute_input": "2023-11-20T11:39:46.535017Z",
     "iopub.status.busy": "2023-11-20T11:39:46.534446Z",
     "iopub.status.idle": "2023-11-20T11:40:24.242862Z",
     "shell.execute_reply": "2023-11-20T11:40:24.242066Z",
     "shell.execute_reply.started": "2023-11-20T11:39:46.534992Z"
    },
    "tags": []
   },
   "outputs": [],
   "source": [
    "#Chargement des données\n",
    "#Instanciation des dataloaders\n",
    "# Define data augmentation transforms\n",
    "data_augmentation = transforms.Compose([\n",
    "    transforms.RandomRotation(10),\n",
    "    transforms.RandomHorizontalFlip(),\n",
    "    transforms.RandomVerticalFlip(),\n",
    "])\n",
    "dataset=CustomImageDataset(annotations_file='./train-labels.csv',img_dir='./train-resized',transform=data_augmentation)\n",
    "generator1 = torch.Generator().manual_seed(42)\n",
    "l=len(dataset)\n",
    "\n",
    "\n",
    "augment = 0\n",
    "if augment :\n",
    "    \n",
    "    # Create an addtion class 1 from all data\n",
    "    class1_samples = [dataset[i] for i in range(l) if dataset[i][1] == 1]\n",
    "\n",
    "    # Apply data augmentation to class 1 samples and add to train_dataset\n",
    "    dataset += [(data_augmentation(sample[0]), 1) for sample in class1_samples]\n",
    "    l=len(dataset)\n",
    "    # print([d[:][1] for d in dataset])\n",
    "    # _,_,count=torch.unique((d[:][1] for d in dataset),return_counts=True)\n",
    "    # print(f\"Classe du dataset train+val : {count}\\n-------------------------------\")\n",
    "else:\n",
    "    print(f\"Classe du dataset train+val : {torch.unique(dataset.target, return_counts=True)}\\n-------------------------------\")\n",
    "\n",
    "train_dataset,val_dataset=random_split(dataset, [int(l - (l // 10)), int(l // 10)], generator=generator1)\n",
    "test_dataset=CustomImageTestset(annotations_file='./test-name.csv',img_dir='./test-resized')\n",
    "\n",
    "\n",
    "label_train = [train_dataset.dataset.img_labels.iloc[i,1] for i in train_dataset.indices]\n",
    "class_sample_count = np.array([len(np.where(label_train == t)[0]) for t in np.unique(label_train)])\n",
    "print(f\"Classe du dataset train : {dict(Counter(val_dataset.dataset.img_labels.iloc[i,1] for i in train_dataset.indices))}\\n-------------------------------\")\n",
    "\n",
    "for i, sample in enumerate(train_dataset):\n",
    "    if i == 0:\n",
    "        print(f\"Taille image train : {sample[0].shape}, Label : {sample[1].shape}\\n   ----------------------------\")\n",
    "    ax = plt.subplot(1, 4, i + 1)\n",
    "    plt.tight_layout()\n",
    "    ax.set_title('Sample #{}'.format(i))\n",
    "    ax.axis('off')\n",
    "    plt.imshow(sample[0].T)\n",
    "    if i == 3:\n",
    "        plt.show()\n",
    "        break\n",
    "print(f\"Classe du dataset de validation : {dict(Counter(val_dataset.dataset.img_labels.iloc[i,1] for i in val_dataset.indices))}\\n-------------------------------\")\n",
    "for i, sample in enumerate(val_dataset):\n",
    "    if i == 0:\n",
    "        print(f\"Taille image val: {sample[0].shape}, Label : {sample[1].shape}\\n   ----------------------------\")\n",
    "    ax = plt.subplot(1, 4, i + 1)\n",
    "    plt.tight_layout()\n",
    "    ax.set_title('Sample #{}'.format(i))\n",
    "    ax.axis('off')\n",
    "    plt.imshow(sample[0].T)\n",
    "    if i == 3:\n",
    "        plt.show()\n",
    "        break\n",
    "\n",
    "print(f\"Dataset de test \\n-------------------------------\")\n",
    "for i, (sample,name) in enumerate(test_dataset):\n",
    "    if i == 0:\n",
    "        print(f\"Taille image test: {sample.shape}\\n   ----------------------------\")\n",
    "    ay = plt.subplot(1, 4, i + 1)\n",
    "    plt.tight_layout()\n",
    "    ay.set_title('Test sample #{}'.format(i))\n",
    "    # ay.xlabel(name)\n",
    "    ay.axis('off')\n",
    "    plt.imshow(sample.T)\n",
    "    if i == 3:\n",
    "        plt.show()\n",
    "        break"
   ]
  },
  {
   "cell_type": "code",
   "execution_count": 84,
   "id": "5a9c39e8-ca7d-45d3-a265-b41c578ec3ed",
   "metadata": {
    "execution": {
     "iopub.execute_input": "2023-11-20T11:40:46.257907Z",
     "iopub.status.busy": "2023-11-20T11:40:46.257505Z",
     "iopub.status.idle": "2023-11-20T11:40:47.001991Z",
     "shell.execute_reply": "2023-11-20T11:40:47.001272Z",
     "shell.execute_reply.started": "2023-11-20T11:40:46.257882Z"
    },
    "tags": []
   },
   "outputs": [
    {
     "name": "stdout",
     "output_type": "stream",
     "text": [
      "Classe du batch : [7 9]\n",
      "-------------------------------\n",
      "Shape of X [N, C, H, W]: torch.Size([16, 3, 224, 224])\n",
      "Shape of y: torch.Size([16]) torch.float32\n"
     ]
    }
   ],
   "source": [
    "#Mise en forme des données\n",
    "\n",
    "batch_size = 16\n",
    "\n",
    "#distribue les classes dans chaque sample\n",
    "weight = 1. / class_sample_count\n",
    "samples_weight = np.array([weight[t] for t in label_train])\n",
    "samples_weight = torch.from_numpy(samples_weight)\n",
    "sampler = WeightedRandomSampler(samples_weight.type('torch.DoubleTensor'), len(samples_weight),replacement=True)\n",
    "samp=1\n",
    "# Create data loaders.\n",
    "if samp:\n",
    "    train_dataloader = DataLoader(train_dataset, batch_size=batch_size,num_workers=4,sampler=sampler)\n",
    "else:\n",
    "    train_dataloader = DataLoader(train_dataset, batch_size=batch_size,num_workers=4)\n",
    "    \n",
    "test_dataloader = DataLoader(test_dataset, batch_size=batch_size,shuffle=True,num_workers=4)\n",
    "val_dataloader=DataLoader(val_dataset, batch_size=batch_size,shuffle=False,num_workers=4)\n",
    "\n",
    "for X,y in train_dataloader:\n",
    "    print(f\"Classe du batch : {np.array([len(torch.where(y == t)[0]) for t in torch.unique(y)])}\\n-------------------------------\")\n",
    "    print(f\"Shape of X [N, C, H, W]: {X.shape}\")\n",
    "    print(f\"Shape of y: {y.shape} {y.dtype}\")\n",
    "    break"
   ]
  },
  {
   "cell_type": "code",
   "execution_count": 85,
   "id": "c144c713-3b94-4d50-a855-746d37ae76ab",
   "metadata": {
    "execution": {
     "iopub.execute_input": "2023-11-20T11:40:55.799252Z",
     "iopub.status.busy": "2023-11-20T11:40:55.798848Z",
     "iopub.status.idle": "2023-11-20T11:40:56.017336Z",
     "shell.execute_reply": "2023-11-20T11:40:56.016636Z",
     "shell.execute_reply.started": "2023-11-20T11:40:55.799225Z"
    },
    "tags": []
   },
   "outputs": [
    {
     "name": "stdout",
     "output_type": "stream",
     "text": [
      "Using cuda device\n"
     ]
    }
   ],
   "source": [
    "# Création du modèle\n",
    "import torchvision.models as models #import resnet18, ResNet18_Weights\n",
    "device = (\n",
    "    \"cuda\"\n",
    "    if torch.cuda.is_available()\n",
    "    else \"mps\"\n",
    "    if torch.backends.mps.is_available()\n",
    "    else \"cpu\"\n",
    ")\n",
    "\n",
    "print(f\"Using {device} device\")\n",
    "\n",
    "# Define model\n",
    "model = models.resnet18(pretrained=True)\n",
    "#freeze params\n",
    "for params in model.parameters():\n",
    "  params.requires_grad_ = True\n",
    "\n",
    "model= model.cuda()\n",
    "num_ftrs = model.fc.in_features\n",
    "model.fc = nn.Linear(num_ftrs, 1)\n",
    "model.fc = model.fc.cuda()  if device==\"cuda\" else net.fc\n",
    "# print(model)"
   ]
  },
  {
   "cell_type": "code",
   "execution_count": 87,
   "id": "f2cc27e4-33a9-4dc1-9a22-d2595b6ffb1f",
   "metadata": {
    "execution": {
     "iopub.execute_input": "2023-11-20T11:41:39.604143Z",
     "iopub.status.busy": "2023-11-20T11:41:39.603378Z",
     "iopub.status.idle": "2023-11-20T11:41:39.608371Z",
     "shell.execute_reply": "2023-11-20T11:41:39.607735Z",
     "shell.execute_reply.started": "2023-11-20T11:41:39.604115Z"
    },
    "tags": []
   },
   "outputs": [],
   "source": [
    "#défini la fonction de perte et l'optimiseur\n",
    "pos_weight=torch.tensor(class_sample_count[0]/class_sample_count[1])\n",
    "loss_fn = nn.BCEWithLogitsLoss(pos_weight = pos_weight)\n",
    "# optimizer = torch.optim.Adam(model.parameters(), lr=1e-3, weight_decay=0.1)\n",
    "optimizer = torch.optim.Adam(model.parameters(), lr=1e-3)"
   ]
  },
  {
   "cell_type": "code",
   "execution_count": 88,
   "id": "3fbc7e42-0174-4fdd-ad51-cca53531d8c5",
   "metadata": {
    "execution": {
     "iopub.execute_input": "2023-11-20T11:41:40.469801Z",
     "iopub.status.busy": "2023-11-20T11:41:40.469474Z",
     "iopub.status.idle": "2023-11-20T11:41:40.478178Z",
     "shell.execute_reply": "2023-11-20T11:41:40.477438Z",
     "shell.execute_reply.started": "2023-11-20T11:41:40.469780Z"
    },
    "tags": []
   },
   "outputs": [],
   "source": [
    "#val\n",
    "def val(model,loss_fn,val_dataloader,csv_file,loss=None,nb=\"Last\"):\n",
    "    val_loss = 0.0\n",
    "    correct_predictions = 0\n",
    "    total_samples = 0\n",
    "    total_samples_0 = 0\n",
    "    total_samples_1 = 0\n",
    "    correct_predictions_0 = 0\n",
    "    correct_predictions_1 = 0\n",
    "    num_batches = len(val_dataloader)\n",
    "    \n",
    "    with torch.no_grad():\n",
    "        model.eval()  # Set the model to evaluation mode\n",
    "        for val_batch, (val_X, val_y) in enumerate(val_dataloader):\n",
    "            val_X, val_y = val_X.to(device), val_y.to(device)\n",
    "            val_pred = model(val_X)\n",
    "            val_loss += loss_fn(val_pred.squeeze(), val_y).item()\n",
    "            # Calculate accuracy for each class\n",
    "            predicted_labels=torch.sigmoid(val_pred.T)\n",
    "            correct_predictions_0 += ((val_y == 0) & (predicted_labels < 0.5)).sum().item()\n",
    "            correct_predictions_1 += ((val_y == 1) & (predicted_labels >= 0.5)).sum().item()\n",
    "            total_samples_0 += (val_y == 0).sum().item()\n",
    "            total_samples_1 += (val_y == 1).sum().item()\n",
    " \n",
    "        accuracy_0 = correct_predictions_0 / total_samples_0\n",
    "        accuracy_1 = correct_predictions_1 / total_samples_1\n",
    "        accuracy_gen= (correct_predictions_0+correct_predictions_1) / (total_samples_0+total_samples_1)\n",
    "        avg_val_loss = val_loss / (val_batch + 1)\n",
    "        with open(csv_file, 'a', newline='') as file:\n",
    "            writer = csv.writer(file)\n",
    "            if loss==None:\n",
    "                writer.writerow([nb,round(accuracy_gen,3),round(accuracy_0,3),round(accuracy_1,3),round(avg_val_loss,3)])\n",
    "            else:\n",
    "                writer.writerow([nb,round(accuracy_gen,3),round(accuracy_0,3),round(accuracy_1,3),round(avg_val_loss,3),torch.round(loss,decimals=3).item()])\n",
    "    \n",
    "    \n",
    "\n"
   ]
  },
  {
   "cell_type": "code",
   "execution_count": 90,
   "id": "52063903-5252-4239-bc0d-60890df57f13",
   "metadata": {
    "execution": {
     "iopub.execute_input": "2023-11-20T11:41:55.319885Z",
     "iopub.status.busy": "2023-11-20T11:41:55.319510Z",
     "iopub.status.idle": "2023-11-20T13:07:34.787816Z",
     "shell.execute_reply": "2023-11-20T13:07:34.787033Z",
     "shell.execute_reply.started": "2023-11-20T11:41:55.319864Z"
    },
    "tags": []
   },
   "outputs": [
    {
     "name": "stdout",
     "output_type": "stream",
     "text": [
      "Epoch 1\n",
      "-------------------------------\n"
     ]
    },
    {
     "name": "stderr",
     "output_type": "stream",
     "text": [
      "100%|██████████| 1864/1864 [01:37<00:00, 19.09it/s]\n"
     ]
    },
    {
     "name": "stdout",
     "output_type": "stream",
     "text": [
      "Epoch 2\n",
      "-------------------------------\n"
     ]
    },
    {
     "name": "stderr",
     "output_type": "stream",
     "text": [
      "100%|██████████| 1864/1864 [01:38<00:00, 19.02it/s]\n"
     ]
    },
    {
     "name": "stdout",
     "output_type": "stream",
     "text": [
      "Epoch 3\n",
      "-------------------------------\n"
     ]
    },
    {
     "name": "stderr",
     "output_type": "stream",
     "text": [
      "100%|██████████| 1864/1864 [01:38<00:00, 19.01it/s]\n"
     ]
    },
    {
     "name": "stdout",
     "output_type": "stream",
     "text": [
      "Epoch 4\n",
      "-------------------------------\n"
     ]
    },
    {
     "name": "stderr",
     "output_type": "stream",
     "text": [
      "100%|██████████| 1864/1864 [01:38<00:00, 19.01it/s]\n"
     ]
    },
    {
     "name": "stdout",
     "output_type": "stream",
     "text": [
      "Epoch 5\n",
      "-------------------------------\n"
     ]
    },
    {
     "name": "stderr",
     "output_type": "stream",
     "text": [
      "100%|██████████| 1864/1864 [01:37<00:00, 19.02it/s]\n"
     ]
    },
    {
     "name": "stdout",
     "output_type": "stream",
     "text": [
      "Epoch 6\n",
      "-------------------------------\n"
     ]
    },
    {
     "name": "stderr",
     "output_type": "stream",
     "text": [
      "100%|██████████| 1864/1864 [01:38<00:00, 19.01it/s]\n"
     ]
    },
    {
     "name": "stdout",
     "output_type": "stream",
     "text": [
      "Epoch 7\n",
      "-------------------------------\n"
     ]
    },
    {
     "name": "stderr",
     "output_type": "stream",
     "text": [
      "100%|██████████| 1864/1864 [01:38<00:00, 19.00it/s]\n"
     ]
    },
    {
     "name": "stdout",
     "output_type": "stream",
     "text": [
      "Epoch 8\n",
      "-------------------------------\n"
     ]
    },
    {
     "name": "stderr",
     "output_type": "stream",
     "text": [
      "100%|██████████| 1864/1864 [01:38<00:00, 19.01it/s]\n"
     ]
    },
    {
     "name": "stdout",
     "output_type": "stream",
     "text": [
      "Epoch 9\n",
      "-------------------------------\n"
     ]
    },
    {
     "name": "stderr",
     "output_type": "stream",
     "text": [
      "100%|██████████| 1864/1864 [01:38<00:00, 19.01it/s]\n"
     ]
    },
    {
     "name": "stdout",
     "output_type": "stream",
     "text": [
      "Epoch 10\n",
      "-------------------------------\n"
     ]
    },
    {
     "name": "stderr",
     "output_type": "stream",
     "text": [
      "100%|██████████| 1864/1864 [01:38<00:00, 19.02it/s]\n"
     ]
    },
    {
     "name": "stdout",
     "output_type": "stream",
     "text": [
      "Epoch 11\n",
      "-------------------------------\n"
     ]
    },
    {
     "name": "stderr",
     "output_type": "stream",
     "text": [
      "100%|██████████| 1864/1864 [01:37<00:00, 19.04it/s]\n"
     ]
    },
    {
     "name": "stdout",
     "output_type": "stream",
     "text": [
      "Epoch 12\n",
      "-------------------------------\n"
     ]
    },
    {
     "name": "stderr",
     "output_type": "stream",
     "text": [
      "100%|██████████| 1864/1864 [01:37<00:00, 19.03it/s]\n"
     ]
    },
    {
     "name": "stdout",
     "output_type": "stream",
     "text": [
      "Epoch 13\n",
      "-------------------------------\n"
     ]
    },
    {
     "name": "stderr",
     "output_type": "stream",
     "text": [
      "100%|██████████| 1864/1864 [01:37<00:00, 19.04it/s]\n"
     ]
    },
    {
     "name": "stdout",
     "output_type": "stream",
     "text": [
      "Epoch 14\n",
      "-------------------------------\n"
     ]
    },
    {
     "name": "stderr",
     "output_type": "stream",
     "text": [
      "100%|██████████| 1864/1864 [01:37<00:00, 19.04it/s]\n"
     ]
    },
    {
     "name": "stdout",
     "output_type": "stream",
     "text": [
      "Epoch 15\n",
      "-------------------------------\n"
     ]
    },
    {
     "name": "stderr",
     "output_type": "stream",
     "text": [
      "100%|██████████| 1864/1864 [01:37<00:00, 19.06it/s]\n"
     ]
    },
    {
     "name": "stdout",
     "output_type": "stream",
     "text": [
      "Epoch 16\n",
      "-------------------------------\n"
     ]
    },
    {
     "name": "stderr",
     "output_type": "stream",
     "text": [
      "100%|██████████| 1864/1864 [01:37<00:00, 19.05it/s]\n"
     ]
    },
    {
     "name": "stdout",
     "output_type": "stream",
     "text": [
      "Epoch 17\n",
      "-------------------------------\n"
     ]
    },
    {
     "name": "stderr",
     "output_type": "stream",
     "text": [
      "100%|██████████| 1864/1864 [01:37<00:00, 19.07it/s]\n"
     ]
    },
    {
     "name": "stdout",
     "output_type": "stream",
     "text": [
      "Epoch 18\n",
      "-------------------------------\n"
     ]
    },
    {
     "name": "stderr",
     "output_type": "stream",
     "text": [
      "100%|██████████| 1864/1864 [01:37<00:00, 19.05it/s]\n"
     ]
    },
    {
     "name": "stdout",
     "output_type": "stream",
     "text": [
      "Epoch 19\n",
      "-------------------------------\n"
     ]
    },
    {
     "name": "stderr",
     "output_type": "stream",
     "text": [
      "100%|██████████| 1864/1864 [01:37<00:00, 19.07it/s]\n"
     ]
    },
    {
     "name": "stdout",
     "output_type": "stream",
     "text": [
      "Epoch 20\n",
      "-------------------------------\n"
     ]
    },
    {
     "name": "stderr",
     "output_type": "stream",
     "text": [
      "100%|██████████| 1864/1864 [01:37<00:00, 19.07it/s]\n"
     ]
    },
    {
     "name": "stdout",
     "output_type": "stream",
     "text": [
      "Epoch 21\n",
      "-------------------------------\n"
     ]
    },
    {
     "name": "stderr",
     "output_type": "stream",
     "text": [
      "100%|██████████| 1864/1864 [01:37<00:00, 19.09it/s]\n"
     ]
    },
    {
     "name": "stdout",
     "output_type": "stream",
     "text": [
      "Epoch 22\n",
      "-------------------------------\n"
     ]
    },
    {
     "name": "stderr",
     "output_type": "stream",
     "text": [
      "100%|██████████| 1864/1864 [01:37<00:00, 19.10it/s]\n"
     ]
    },
    {
     "name": "stdout",
     "output_type": "stream",
     "text": [
      "Epoch 23\n",
      "-------------------------------\n"
     ]
    },
    {
     "name": "stderr",
     "output_type": "stream",
     "text": [
      "100%|██████████| 1864/1864 [01:37<00:00, 19.10it/s]\n"
     ]
    },
    {
     "name": "stdout",
     "output_type": "stream",
     "text": [
      "Epoch 24\n",
      "-------------------------------\n"
     ]
    },
    {
     "name": "stderr",
     "output_type": "stream",
     "text": [
      "100%|██████████| 1864/1864 [01:37<00:00, 19.11it/s]\n"
     ]
    },
    {
     "name": "stdout",
     "output_type": "stream",
     "text": [
      "Epoch 25\n",
      "-------------------------------\n"
     ]
    },
    {
     "name": "stderr",
     "output_type": "stream",
     "text": [
      "100%|██████████| 1864/1864 [01:37<00:00, 19.10it/s]\n"
     ]
    },
    {
     "name": "stdout",
     "output_type": "stream",
     "text": [
      "Epoch 26\n",
      "-------------------------------\n"
     ]
    },
    {
     "name": "stderr",
     "output_type": "stream",
     "text": [
      "100%|██████████| 1864/1864 [01:37<00:00, 19.09it/s]\n"
     ]
    },
    {
     "name": "stdout",
     "output_type": "stream",
     "text": [
      "Epoch 27\n",
      "-------------------------------\n"
     ]
    },
    {
     "name": "stderr",
     "output_type": "stream",
     "text": [
      "100%|██████████| 1864/1864 [01:37<00:00, 19.09it/s]\n"
     ]
    },
    {
     "name": "stdout",
     "output_type": "stream",
     "text": [
      "Epoch 28\n",
      "-------------------------------\n"
     ]
    },
    {
     "name": "stderr",
     "output_type": "stream",
     "text": [
      "100%|██████████| 1864/1864 [01:37<00:00, 19.10it/s]\n"
     ]
    },
    {
     "name": "stdout",
     "output_type": "stream",
     "text": [
      "Epoch 29\n",
      "-------------------------------\n"
     ]
    },
    {
     "name": "stderr",
     "output_type": "stream",
     "text": [
      "100%|██████████| 1864/1864 [01:37<00:00, 19.08it/s]\n"
     ]
    },
    {
     "name": "stdout",
     "output_type": "stream",
     "text": [
      "Epoch 30\n",
      "-------------------------------\n"
     ]
    },
    {
     "name": "stderr",
     "output_type": "stream",
     "text": [
      "100%|██████████| 1864/1864 [01:37<00:00, 19.11it/s]\n"
     ]
    },
    {
     "name": "stdout",
     "output_type": "stream",
     "text": [
      "Epoch 31\n",
      "-------------------------------\n"
     ]
    },
    {
     "name": "stderr",
     "output_type": "stream",
     "text": [
      "100%|██████████| 1864/1864 [01:37<00:00, 19.10it/s]\n"
     ]
    },
    {
     "name": "stdout",
     "output_type": "stream",
     "text": [
      "Epoch 32\n",
      "-------------------------------\n"
     ]
    },
    {
     "name": "stderr",
     "output_type": "stream",
     "text": [
      "100%|██████████| 1864/1864 [01:37<00:00, 19.11it/s]\n"
     ]
    },
    {
     "name": "stdout",
     "output_type": "stream",
     "text": [
      "Epoch 33\n",
      "-------------------------------\n"
     ]
    },
    {
     "name": "stderr",
     "output_type": "stream",
     "text": [
      "100%|██████████| 1864/1864 [01:37<00:00, 19.11it/s]\n"
     ]
    },
    {
     "name": "stdout",
     "output_type": "stream",
     "text": [
      "Epoch 34\n",
      "-------------------------------\n"
     ]
    },
    {
     "name": "stderr",
     "output_type": "stream",
     "text": [
      "100%|██████████| 1864/1864 [01:37<00:00, 19.12it/s]\n"
     ]
    },
    {
     "name": "stdout",
     "output_type": "stream",
     "text": [
      "Epoch 35\n",
      "-------------------------------\n"
     ]
    },
    {
     "name": "stderr",
     "output_type": "stream",
     "text": [
      "100%|██████████| 1864/1864 [01:37<00:00, 19.11it/s]\n"
     ]
    },
    {
     "name": "stdout",
     "output_type": "stream",
     "text": [
      "Epoch 36\n",
      "-------------------------------\n"
     ]
    },
    {
     "name": "stderr",
     "output_type": "stream",
     "text": [
      "100%|██████████| 1864/1864 [01:37<00:00, 19.12it/s]\n"
     ]
    },
    {
     "name": "stdout",
     "output_type": "stream",
     "text": [
      "Epoch 37\n",
      "-------------------------------\n"
     ]
    },
    {
     "name": "stderr",
     "output_type": "stream",
     "text": [
      "100%|██████████| 1864/1864 [01:37<00:00, 19.12it/s]\n"
     ]
    },
    {
     "name": "stdout",
     "output_type": "stream",
     "text": [
      "Epoch 38\n",
      "-------------------------------\n"
     ]
    },
    {
     "name": "stderr",
     "output_type": "stream",
     "text": [
      "100%|██████████| 1864/1864 [01:37<00:00, 19.12it/s]\n"
     ]
    },
    {
     "name": "stdout",
     "output_type": "stream",
     "text": [
      "Epoch 39\n",
      "-------------------------------\n"
     ]
    },
    {
     "name": "stderr",
     "output_type": "stream",
     "text": [
      "100%|██████████| 1864/1864 [01:37<00:00, 19.12it/s]\n"
     ]
    },
    {
     "name": "stdout",
     "output_type": "stream",
     "text": [
      "Epoch 40\n",
      "-------------------------------\n"
     ]
    },
    {
     "name": "stderr",
     "output_type": "stream",
     "text": [
      "100%|██████████| 1864/1864 [01:37<00:00, 19.13it/s]\n"
     ]
    },
    {
     "name": "stdout",
     "output_type": "stream",
     "text": [
      "Epoch 41\n",
      "-------------------------------\n"
     ]
    },
    {
     "name": "stderr",
     "output_type": "stream",
     "text": [
      "100%|██████████| 1864/1864 [01:37<00:00, 19.12it/s]\n"
     ]
    },
    {
     "name": "stdout",
     "output_type": "stream",
     "text": [
      "Epoch 42\n",
      "-------------------------------\n"
     ]
    },
    {
     "name": "stderr",
     "output_type": "stream",
     "text": [
      "100%|██████████| 1864/1864 [01:37<00:00, 19.11it/s]\n"
     ]
    },
    {
     "name": "stdout",
     "output_type": "stream",
     "text": [
      "Epoch 43\n",
      "-------------------------------\n"
     ]
    },
    {
     "name": "stderr",
     "output_type": "stream",
     "text": [
      "100%|██████████| 1864/1864 [01:37<00:00, 19.12it/s]\n"
     ]
    },
    {
     "name": "stdout",
     "output_type": "stream",
     "text": [
      "Epoch 44\n",
      "-------------------------------\n"
     ]
    },
    {
     "name": "stderr",
     "output_type": "stream",
     "text": [
      "100%|██████████| 1864/1864 [01:37<00:00, 19.13it/s]\n"
     ]
    },
    {
     "name": "stdout",
     "output_type": "stream",
     "text": [
      "Epoch 45\n",
      "-------------------------------\n"
     ]
    },
    {
     "name": "stderr",
     "output_type": "stream",
     "text": [
      "100%|██████████| 1864/1864 [01:37<00:00, 19.12it/s]\n"
     ]
    },
    {
     "name": "stdout",
     "output_type": "stream",
     "text": [
      "Epoch 46\n",
      "-------------------------------\n"
     ]
    },
    {
     "name": "stderr",
     "output_type": "stream",
     "text": [
      "100%|██████████| 1864/1864 [01:37<00:00, 19.12it/s]\n"
     ]
    },
    {
     "name": "stdout",
     "output_type": "stream",
     "text": [
      "Epoch 47\n",
      "-------------------------------\n"
     ]
    },
    {
     "name": "stderr",
     "output_type": "stream",
     "text": [
      "100%|██████████| 1864/1864 [01:37<00:00, 19.12it/s]\n"
     ]
    },
    {
     "name": "stdout",
     "output_type": "stream",
     "text": [
      "Epoch 48\n",
      "-------------------------------\n"
     ]
    },
    {
     "name": "stderr",
     "output_type": "stream",
     "text": [
      "100%|██████████| 1864/1864 [01:37<00:00, 19.12it/s]\n"
     ]
    },
    {
     "name": "stdout",
     "output_type": "stream",
     "text": [
      "Epoch 49\n",
      "-------------------------------\n"
     ]
    },
    {
     "name": "stderr",
     "output_type": "stream",
     "text": [
      "100%|██████████| 1864/1864 [01:37<00:00, 19.13it/s]\n"
     ]
    },
    {
     "name": "stdout",
     "output_type": "stream",
     "text": [
      "Epoch 50\n",
      "-------------------------------\n"
     ]
    },
    {
     "name": "stderr",
     "output_type": "stream",
     "text": [
      "100%|██████████| 1864/1864 [01:37<00:00, 19.12it/s]\n"
     ]
    },
    {
     "name": "stdout",
     "output_type": "stream",
     "text": [
      "Done!\n"
     ]
    }
   ],
   "source": [
    "#training\n",
    "epochs=50\n",
    "nb_batch=len(train_dataloader)\n",
    "# print(f\"Number of batches : {nb_batch}\\n-------------------------------\")\n",
    "with open('val'+str(batch_size)+'.csv', 'w', newline='') as file:\n",
    "    writer = csv.writer(file)\n",
    "    field = [\"epoch\",\"gen acc\",\"acc0\",\"acc1\",\"val_loss\",\"loss\"]\n",
    "    writer.writerow(field)\n",
    "for t in range(epochs):\n",
    "    print(f\"Epoch {t+1}\\n-------------------------------\")\n",
    "    size = len(train_dataset)\n",
    "    model.train()\n",
    "    for batch, (X, y) in tqdm(enumerate(train_dataloader), total=nb_batch):\n",
    "        X, y = X.to(device), y.to(device)\n",
    "        \n",
    "        # Compute prediction error\n",
    "        pred = model(X)\n",
    "        loss = loss_fn(pred.squeeze(), y)\n",
    "\n",
    "        # Backpropagation\n",
    "        loss.backward()\n",
    "        optimizer.step()\n",
    "        optimizer.zero_grad()\n",
    "        \n",
    "        \n",
    "    val(model,loss_fn,val_dataloader,'val'+str(batch_size)+'.csv',loss=loss,nb=t)\n",
    "        # if batch+1 % round((nb_batch-1)/3) == 0:\n",
    "        #     loss, current = loss.item(), (batch + 1) * len(X)\n",
    "        #     print(f\"loss: {loss:>7f}  [{current:>5d}/{size:>5d}]\")\n",
    "        \n",
    "        \n",
    "print(\"Done!\")\n"
   ]
  },
  {
   "cell_type": "code",
   "execution_count": 91,
   "id": "f285b180-8292-45cd-b93f-4c7ea260ae58",
   "metadata": {
    "execution": {
     "iopub.execute_input": "2023-11-20T13:07:34.789660Z",
     "iopub.status.busy": "2023-11-20T13:07:34.789310Z",
     "iopub.status.idle": "2023-11-20T13:07:35.098809Z",
     "shell.execute_reply": "2023-11-20T13:07:35.098107Z",
     "shell.execute_reply.started": "2023-11-20T13:07:34.789638Z"
    },
    "tags": []
   },
   "outputs": [
    {
     "data": {
      "image/png": "[encoded data removed]",
      "text/plain": [
       "<Figure size 640x480 with 2 Axes>"
      ]
     },
     "metadata": {},
     "output_type": "display_data"
    }
   ],
   "source": [
    "#Visualize data\n",
    "\n",
    "figure, axis = plt.subplots(2, 1)\n",
    "csv_file=pd.read_csv('val'+str(batch_size)+'.csv')\n",
    "axis[0].plot(csv_file[\"epoch\"], csv_file[\"loss\"], color='orange', label='Training loss')\n",
    "axis[0].plot(csv_file[\"epoch\"], csv_file[\"val_loss\"], 'b', label='Validation loss')\n",
    "axis[0].set_title('Training and validation loss')\n",
    "axis[0].set_xlabel('Epochs')\n",
    "axis[0].set_ylabel('Loss')\n",
    "axis[0].legend()\n",
    "\n",
    "axis[1].plot(csv_file[\"epoch\"], csv_file[\"acc1\"], color='orange', label='Accuracy on class 1')\n",
    "axis[1].plot(csv_file[\"epoch\"], csv_file[\"acc0\"], 'b', label='Accuracy on class 0')\n",
    "axis[1].plot(csv_file[\"epoch\"], csv_file[\"gen acc\"], 'g', label='General accuracy')\n",
    "axis[1].set_title('Accuracy on validation set')\n",
    "axis[1].set_xlabel('Epochs')\n",
    "axis[1].set_ylabel('Accuracy')\n",
    "axis[1].legend()\n",
    "\n",
    "plt.tight_layout()\n",
    "plt.savefig(\"Metrics\"+str(batch_size)+\".png\")\n",
    "plt.show()"
   ]
  },
  {
   "cell_type": "code",
   "execution_count": 92,
   "id": "e3284ec0-e0dd-4e25-90b5-fdb3b4b51f82",
   "metadata": {
    "execution": {
     "iopub.execute_input": "2023-11-20T13:07:35.100450Z",
     "iopub.status.busy": "2023-11-20T13:07:35.099816Z",
     "iopub.status.idle": "2023-11-20T13:07:49.477894Z",
     "shell.execute_reply": "2023-11-20T13:07:49.477060Z",
     "shell.execute_reply.started": "2023-11-20T13:07:35.100418Z"
    },
    "tags": []
   },
   "outputs": [
    {
     "name": "stderr",
     "output_type": "stream",
     "text": [
      "687it [00:14, 48.49it/s]\n"
     ]
    }
   ],
   "source": [
    "#test\n",
    "\n",
    "num_batches = len(test_dataloader)\n",
    "with torch.no_grad():\n",
    "    model.eval()  # Set the model to evaluation mode\n",
    "    with open('test'+str(batch_size)+'.csv', 'w', newline='') as file:\n",
    "        writer = csv.writer(file)\n",
    "        field = [\"image_name\",\"target\"]\n",
    "        writer.writerow(field)\n",
    "        for test_batch, (test_X, name) in tqdm(enumerate(test_dataloader)):\n",
    "            test_X = test_X.to(device)\n",
    "            test_pred = model(test_X)\n",
    "            predicted_labels=torch.sigmoid(test_pred)\n",
    "           \n",
    "            for i,x in enumerate(predicted_labels) :\n",
    "                # print(test_batch)\n",
    "                # print(i)\n",
    "                writer.writerow([name[i],round(x.item(),3)])\n",
    "                # if x.item() >=0.5:\n",
    "                #     writer.writerow([name[i],1])\n",
    "                # else: \n",
    "                #     writer.writerow([name[i],0])\n"
   ]
  },
  {
   "cell_type": "code",
   "execution_count": 33,
   "id": "6afd65a3-2639-44d7-9c2a-4f0f915ffe2a",
   "metadata": {
    "execution": {
     "iopub.execute_input": "2023-11-20T10:17:06.815815Z",
     "iopub.status.busy": "2023-11-20T10:17:06.815207Z",
     "iopub.status.idle": "2023-11-20T10:17:12.494837Z",
     "shell.execute_reply": "2023-11-20T10:17:12.494132Z",
     "shell.execute_reply.started": "2023-11-20T10:17:06.815780Z"
    },
    "tags": []
   },
   "outputs": [
    {
     "name": "stderr",
     "output_type": "stream",
     "text": [
      "13it [00:05,  2.36it/s]"
     ]
    },
    {
     "name": "stdout",
     "output_type": "stream",
     "text": [
      "Validation loss: 0.0858    Accuracy:0.9982\n",
      "        Accuracy for class 0: 0.9985    class 1: 0.9861\n",
      "\n"
     ]
    },
    {
     "name": "stderr",
     "output_type": "stream",
     "text": [
      "\n"
     ]
    }
   ],
   "source": [
    "#ancien val\n",
    "val_loss = 0.0\n",
    "correct_predictions = 0\n",
    "total_samples = 0\n",
    "total_samples_0 = 0\n",
    "total_samples_1 = 0\n",
    "correct_predictions_0 = 0\n",
    "correct_predictions_1 = 0\n",
    "size = len(val_dataset)\n",
    "num_batches = len(val_dataloader)\n",
    "\n",
    "with torch.no_grad():\n",
    "    model.eval()  # Set the model to evaluation mode\n",
    "    for val_batch, (val_X, val_y) in tqdm(enumerate(val_dataloader)):\n",
    "        val_X, val_y = val_X.to(device), val_y.to(device)\n",
    "\n",
    "        val_pred = model(val_X)\n",
    "        val_loss += loss_fn(val_pred.squeeze(), val_y).item()\n",
    "        predicted_labels=torch.sigmoid(val_pred.T)\n",
    "        #_, predicted_labels = torch.max(val_pred, 1)\n",
    "        # print(val_y)\n",
    "        # print(\"aa\",predicted_labels)\n",
    "        correct_predictions_0 += ((val_y == 0) & (predicted_labels < 0.5)).sum().item()\n",
    "        correct_predictions_1 += ((val_y == 1) & (predicted_labels >= 0.5)).sum().item()\n",
    "        \n",
    "        # print(((val_y == 0) & (predicted_labels < 0.5)).sum())\n",
    "        # for i,x in enumerate(predicted_labels) :\n",
    "            # if (val_y[i] == 0):\n",
    "            #     # writer.writerow([x.item(),val_y[i].item(),(x < 0.5).item()])\n",
    "            #     pass\n",
    "            # else:\n",
    "            #     writer.writerow([x.item(),val_y[i].item(),(x > 0.5).item()])\n",
    "\n",
    "        # Calculate accuracy for each class\n",
    "        total_samples_0 += (val_y == 0).sum().item()\n",
    "        total_samples_1 += (val_y == 1).sum().item()\n",
    "        # if val_batch % round(num_batches) == 0 | (predicted_labels > 0.5).sum()>0:\n",
    "        #     print(f\"pred: {torch.sigmoid(val_pred.T)}\\n y:{val_y}\")\n",
    "\n",
    "accuracy_0 = correct_predictions_0 / total_samples_0\n",
    "accuracy_1 = correct_predictions_1 / total_samples_1\n",
    "accuracy_gen= (correct_predictions_0+correct_predictions_1) / (total_samples_0+total_samples_1)\n",
    "avg_val_loss = val_loss / (val_batch + 1)\n",
    "with open('val'+str(batch_size)+'.csv', 'w', newline='') as file:\n",
    "    writer = csv.writer(file)\n",
    "    field = [\"gen acc\",\"acc0\",\"acc1\",\"loss\"]\n",
    "    writer.writerow(field)\n",
    "    writer.writerow([accuracy_gen,accuracy_0,accuracy_1,avg_val_loss])\n",
    "print(f\"Validation loss: {avg_val_loss:.4f}    Accuracy:{accuracy_gen:.4f}\")\n",
    "# Display class-wise accuracy\n",
    "print(f\"        Accuracy for class 0: {accuracy_0:.4f}    class 1: {accuracy_1:.4f}\")\n",
    "print()"
   ]
  },
  {
   "cell_type": "code",
   "execution_count": null,
   "id": "fa809216-9b75-4db0-95dd-9934ed937ed9",
   "metadata": {},
   "outputs": [],
   "source": []
  }
 ],
 "metadata": {
  "kernelspec": {
   "display_name": "Python 3 (ipykernel)",
   "language": "python",
   "name": "python3"
  },
  "language_info": {
   "codemirror_mode": {
    "name": "ipython",
    "version": 3
   },
   "file_extension": ".py",
   "mimetype": "text/x-python",
   "name": "python",
   "nbconvert_exporter": "python",
   "pygments_lexer": "ipython3",
   "version": "3.11.2"
  }
 },
 "nbformat": 4,
 "nbformat_minor": 5
}
